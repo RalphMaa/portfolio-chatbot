{
 "cells": [
  {
   "cell_type": "markdown",
   "id": "da644c08-9c98-42a2-8bb2-d3cce1049deb",
   "metadata": {},
   "source": [
    "## Additional End of week Exercise - week 2\n",
    "Now use everything you've learned from Week 2 to build a full prototype for the technical question/answerer you built in Week 1 Exercise.\n",
    "\n",
    "This should include a Gradio UI, streaming, use of the system prompt to add expertise, and the ability to switch between models. Bonus points if you can demonstrate use of a tool!\n",
    "\n",
    "If you feel bold, see if you can add audio input so you can talk to it, and have it respond with audio. ChatGPT or Claude can help you, or email me if you have questions.\n",
    "\n",
    "I will publish a full solution here soon - unless someone beats me to it...\n",
    "\n",
    "There are so many commercial applications for this, from a language tutor, to a company onboarding solution, to a companion AI to a course (like this one!) I can't wait to see your results."
   ]
  },
  {
   "cell_type": "code",
   "execution_count": 1,
   "id": "581205c2-b57e-4050-8856-e699182a898b",
   "metadata": {},
   "outputs": [
    {
     "data": {
      "text/plain": [
       "'\\nProject Description: It will be an investment advisor that does the following:\\n1. Providing advice on suitable investment products, focused ONLY on ETFs, tailored to the client\\'s risk tolerance and financial goals. --> For example,\\nit helps the user with investment recommendations based on their questions which could be something like \"What ETF is there that tells me the price of the Nasdaq.\" An answer to that question \\ncan be something like \"An ETF that tracks the Nasdaq is QQQ offered by Invesco.\". \\n2. Portfolio Management: Monitoring and adjusting client portfolios to ensure they align with their financial goals and market conditions. --> Place orders to buy ETFs in a fake account \\n   + Keep track in the form of a pie chart of the consistancy of the portfolio, what it\\'s made of ,with the total fake amount invested\\n3. Compliance and Ethics: Adhering to regulatory requirements and maintaining high ethical standards in their practice. \\n4. Doesn\\'t answer if it doesn\\'t know the answer\\n\\nTools: \\n - Get_ETF_Name(prompt): Use an API to fetch an ETF the user asked for with a graph of that ETF price over time --> Output is a list of ETF index code\\n - Get_ETF_Price(ETF_Index): Use an API to fetch the price of the ETF (Live Graph + current price)\\n - Place_ETF_Order(ETF_Index): Use an API to place order to buy an ETF at Market price\\n - Display_Portfolio(Account_info): Use API to get the information of the portfolio consistency of a person\\'s investment account\\n\\nLLM Models:\\n - OpenAI and Anthropic: Have a drop down to choose the model to use (Start with OpenAI then expand to add Anthropic as well)\\n\\nAdded Functionality:\\n - Add audio functionality: Make it so that user can converse with Assistant (AI) with audio and his voice. <--> Make that later after finishing the main features above\\n\\n'"
      ]
     },
     "execution_count": 1,
     "metadata": {},
     "output_type": "execute_result"
    }
   ],
   "source": [
    "\"\"\"\n",
    "Project Description: It will be an investment advisor that does the following:\n",
    "1. Providing advice on suitable investment products, focused ONLY on ETFs, tailored to the client's risk tolerance and financial goals. --> For example,\n",
    "it helps the user with investment recommendations based on their questions which could be something like \"What ETF is there that tells me the price of the Nasdaq.\" An answer to that question \n",
    "can be something like \"An ETF that tracks the Nasdaq is QQQ offered by Invesco.\". \n",
    "2. Portfolio Management: Monitoring and adjusting client portfolios to ensure they align with their financial goals and market conditions. --> Place orders to buy ETFs in a fake account \n",
    "   + Keep track in the form of a pie chart of the consistancy of the portfolio, what it's made of ,w ith the total fake amount invested NOTHING ELSE JUST THESE 2 functionalities it will have\n",
    "3. Compliance and Ethics: Adhering to regulatory requirements and maintaining high ethical standards in their practice. \n",
    "4. Doesn't answer if it doesn't know the answer\n",
    "\n",
    "Tools available: \n",
    " - Get_ETF_Name(prompt): Use the alpaca API to fetch an ETF the user asked for with a graph of that ETF price over time --> Output is a list of ETF index code\n",
    " - Get_ETF_Price(ETF_Index): Use an API to fetch the price of the ETF (Live Graph + current price)\n",
    " - Place_ETF_Order(ETF_Index): Use an API to place order to buy an ETF at Market price\n",
    " - Display_Portfolio(Account_info): Use API to get the information of the portfolio consistency of a person's investment account\n",
    "\n",
    "LLM Models:\n",
    " - OpenAI and Anthropic: Have a drop down to choose the model to use (Start with OpenAI then expand to add Anthropic as well)\n",
    "\n",
    "Added Functionality:\n",
    " - Add audio functionality: Make it so that user can converse with Assistant (AI) with audio and his voice. <--> Make that later after finishing the main features above\n",
    "\n",
    "\"\"\""
   ]
  },
  {
   "cell_type": "markdown",
   "id": "79c74578-9e6c-4143-b12a-6237914de056",
   "metadata": {},
   "source": [
    "Imports"
   ]
  },
  {
   "cell_type": "code",
   "execution_count": 272,
   "id": "f560cce3-1695-444d-af24-805fa33135d7",
   "metadata": {},
   "outputs": [],
   "source": [
    "import json\n",
    "import os\n",
    "from dotenv import load_dotenv\n",
    "from openai import OpenAI\n",
    "import gradio as gr\n",
    "\n",
    "from alpaca.trading.client import TradingClient\n",
    "from alpaca.trading.requests import MarketOrderRequest\n",
    "from alpaca.trading.enums import OrderSide, OrderType, TimeInForce\n",
    "from alpaca.data.requests import StockLatestTradeRequest\n",
    "import plotly.express as px\n",
    "import plotly.io as pio"
   ]
  },
  {
   "cell_type": "code",
   "execution_count": 273,
   "id": "f9ee54db-cff2-4fbd-bf2b-c8310a9611a2",
   "metadata": {},
   "outputs": [
    {
     "name": "stdout",
     "output_type": "stream",
     "text": [
      "OpenAI API Key exists and begins sk-proj-\n",
      "Alpaca API Key exists and begins PKGSD3LV\n",
      "Alpaca Secret Key exists and begins f8sjWfsP\n"
     ]
    }
   ],
   "source": [
    "# Load environment variables in a file called .env\n",
    "# Print the key prefixes to help with any debugging\n",
    "\n",
    "load_dotenv(override=True)\n",
    "openai_api_key = os.getenv('OPENAI_API_KEY')\n",
    "alpaca_api_key = os.getenv('ALPACA_API_KEY')\n",
    "alpaca_secret_key = os.getenv('ALPACA_SECRET_KEY')\n",
    "\n",
    "if openai_api_key:\n",
    "    print(f\"OpenAI API Key exists and begins {openai_api_key[:8]}\")\n",
    "else:\n",
    "    print(\"OpenAI API Key not set\")\n",
    "\n",
    "if alpaca_api_key:\n",
    "    print(f\"Alpaca API Key exists and begins {alpaca_api_key[:8]}\")\n",
    "else:\n",
    "    print(\"Alpaca API Key not set\")\n",
    "\n",
    "if alpaca_secret_key:\n",
    "    print(f\"Alpaca Secret Key exists and begins {alpaca_secret_key[:8]}\")\n",
    "else:\n",
    "    print(\"Alpaca Secret Key not set\")"
   ]
  },
  {
   "cell_type": "markdown",
   "id": "f4896198-5e6d-42f3-9bba-069f1c89f247",
   "metadata": {},
   "source": [
    "Step 1: Create the functions for\n",
    "\n",
    "1. Placing a buy order --> Done\n",
    "3. Seeing Portfolio information in a Pie chart --> Done\n",
    "4. Get the ETF Price\n",
    "5. Get ETF Name <-- For this one need to use a combo of LLM and the API from Alpaca ???? OR JUST USE THE LLM?????"
   ]
  },
  {
   "cell_type": "code",
   "execution_count": 163,
   "id": "18c99f65-2721-4207-b0b4-3ce82c6ddffe",
   "metadata": {},
   "outputs": [],
   "source": [
    "# If you want to use paper account instead of live account, set `paper=True`\n",
    "trade_client = TradingClient(api_key=alpaca_api_key, secret_key=alpaca_secret_key, paper=True, url_override=None)"
   ]
  },
  {
   "cell_type": "code",
   "execution_count": 223,
   "id": "f50898be-644e-42df-af35-8ad9790a3aef",
   "metadata": {},
   "outputs": [],
   "source": [
    "# Function to get remaining balance, invested amount, and in what the invested amount is invested in\n",
    "def get_portfolio():\n",
    "    account_info = trade_client.get_account() # Get account info which includes cash on hand\n",
    "    rem_amt_to_trade = account_info.non_marginable_buying_power # Amount that can be traded (It excludes the pending orders)\n",
    "    all_positions = trade_client.get_all_positions()\n",
    "    amt_invested = {} # Key (Symbol of asset): Total Amount invested for that specific asset\n",
    "    for position in all_positions:\n",
    "        symbl = position.symbol # Ticker symbol of position\n",
    "        market_value = position.market_value\n",
    "        qty = position.qty_available # Quantity available to sell\n",
    "        amt_invested[symbl] = qty*market_value\n",
    "\n",
    "    print(\"Portfolio function was called\")\n",
    "    return rem_amt_to_trade, amt_invested"
   ]
  },
  {
   "cell_type": "code",
   "execution_count": 211,
   "id": "86faac8b-e198-495c-bd1b-8480df616ecc",
   "metadata": {},
   "outputs": [],
   "source": [
    "# OpenAI's a particular dictionary structure that's required to describe our function:\n",
    "\n",
    "get_portfolio_function = {\n",
    "    \"name\": \"get_portfolio\",\n",
    "    \"description\": (\n",
    "        \"Retrieve the user's portfolio information, including remaining account balance \"\n",
    "        \"(non-marginable buying power), total invested amount, and a breakdown of investments \"\n",
    "        \"per symbol. Call this when you need to know how much the user can still invest and how \"\n",
    "        \"their current holdings are distributed.\"\n",
    "    ),\n",
    "    \"additionalProperties\": False\n",
    "}"
   ]
  },
  {
   "cell_type": "code",
   "execution_count": 222,
   "id": "981f17d1-aa06-416d-8a21-ae64d553178a",
   "metadata": {},
   "outputs": [],
   "source": [
    "def place_buy_order(symbol, qty, type=OrderType.MARKET, time_in_force=TimeInForce.DAY, side=OrderSide.BUY):\n",
    "    req = MarketOrderRequest(symbol=symbol, qty=qty, type=type, time_in_force=time_in_force, side=side)\n",
    "\n",
    "    res = trade_client.submit_order(req)\n",
    "    print(\"Buy order went through\")\n",
    "\n",
    "    return res"
   ]
  },
  {
   "cell_type": "code",
   "execution_count": 213,
   "id": "8698e99d-8dd3-475b-a282-ffb24dbe0721",
   "metadata": {},
   "outputs": [],
   "source": [
    "place_buy_order_function={\n",
    "    \"name\": \"place_buy_order\",\n",
    "    \"description\": \"Post a buy order request for a symbol and amount or quantity that is specified by the user. Call this whenever you need to place a buy order request to buy ETF securities using the amount specified by the user\",\n",
    "    \"parameters\": {\n",
    "        \"type\": \"object\",\n",
    "        \"properties\": {\n",
    "            \"symbol\": {\n",
    "                \"type\": \"string\",\n",
    "                \"description\": \"The ticker symbol of the security the user wants to buy\",\n",
    "            },\n",
    "            \"qty\": {\n",
    "                \"type\": \"number\",\n",
    "                \"description\": \"The number of shares the user wants to purchase. If the user specifies an investment amount in USD instead of a quantity, convert it to a share quantity by retrieving the current market price using the get_market_val function and dividing the investment amount by the price per share of the specified security.\" \n",
    "            },\n",
    "        },\n",
    "        \"required\": [\"symbol\", \"qty\"],\n",
    "        \"additionalProperties\": False\n",
    "    }\n",
    "}"
   ]
  },
  {
   "cell_type": "code",
   "execution_count": 224,
   "id": "d3c222b0-66f5-443c-adda-9ef3d3baba60",
   "metadata": {},
   "outputs": [],
   "source": [
    "def get_market_val(symbol):\n",
    "    req = StockLatestTradeRequest(symbol_or_symbols=[symbol])\n",
    "    trade = client.get_stock_latest_trade(req)[symbol]\n",
    "    market_value = trade.price\n",
    "    print(\"Market val function was called\")\n",
    "    return market_value"
   ]
  },
  {
   "cell_type": "code",
   "execution_count": 233,
   "id": "6c50b42b-3760-401a-b3e6-6c91a07c6562",
   "metadata": {},
   "outputs": [],
   "source": [
    "get_market_val_function={\n",
    "    \"name\": \"get_market_val\",\n",
    "    \"description\": \"Get the market value of the specified security using the provided 'symbol' parameter.\",\n",
    "    \"parameters\": {\n",
    "        \"type\": \"object\",\n",
    "        \"properties\": {\n",
    "            \"symbol\": {\n",
    "                \"type\": \"string\",\n",
    "                \"description\": \"The ticker symbol of the security the user wants to look up the current market value for.\",\n",
    "            },\n",
    "        },\n",
    "        \"required\": [\"symbol\"],\n",
    "        \"additionalProperties\": False\n",
    "    }\n",
    "\n",
    "}"
   ]
  },
  {
   "cell_type": "markdown",
   "id": "5f183b6f-64e6-49b2-b725-4be6558255b1",
   "metadata": {},
   "source": [
    "Step 2: Build the LLM"
   ]
  },
  {
   "cell_type": "code",
   "execution_count": 234,
   "id": "2bf35935-0989-43fe-9dae-61ea0aeef042",
   "metadata": {},
   "outputs": [],
   "source": [
    "MODEL = \"gpt-4o-mini\"\n",
    "openai = OpenAI()"
   ]
  },
  {
   "cell_type": "code",
   "execution_count": 243,
   "id": "b178a7c5-7a97-4dd3-a876-312b4c6f3666",
   "metadata": {},
   "outputs": [],
   "source": [
    "system_message = \"\"\"Act as an investment advisor specializing ONLY in stocks (including ETFs and individual stocks). Your job consists of two specific functions: \\\n",
    "1. **Stock Advice**: Provide recommendations, explanations, and product suggestions *limited to stocks* (including ETFs) that are tailored to the user's described risk tolerance, goals, or specific questions. Only include stocks that are available for trade in the United States. Do not offer advice on or refer to any \\\n",
    "other investment products. For every recommendation, clearly explain your reasoning step-by-step before providing the answer. Do not fabricate information. If unsure, say you do not know.\\\n",
    "2. **Portfolio Management Simulation**: Allow users to simulate buying stocks in a fictional portfolio. Keep an up-to-date record of simulated holdings by tracking buy orders, \\\n",
    "including name, ticker, amount, and value. Present the current simulated portfolio as a table breakdown showing the composition and total fake investment. If the user asks about\\\n",
    "their portfolio, display this chart and the breakdown in percentages and total value. **Always include the remaining amount the user can still invest in the portfolio report.** Before each portfolio report or order, briefly explain what the data represents or why the \\\n",
    "action is being taken, **then** display the results.\\\n",
    "3. **Market Value Lookup**: When the user asks for the current market value of a stock, use the tool `\"get_market_val\"` to retrieve the latest price and return it.\\\n",
    "4. **Compliance and Ethics**: Always adhere strictly to regulatory and ethical standards:\\\n",
    "- Never offer personalized, real-money investment advice, only general or hypothetical information.\\\n",
    "- Do not make up data, product details, or results. If you do not know the answer, simply state that you do not know.\\\n",
    "**Never respond to questions about non-stock investment products (e.g., crypto, bonds, options, real estate, etc.). Never guess. Only provide answers you are confident in.**\\\n",
    "---\\\n",
    "**Output Format:**  \\\n",
    "- For stock product advice:  \\\n",
    "  - Start with reasoning/explanation, then provide recommendation(s).\\\n",
    "  - Respond in concise paragraphs.  \\\n",
    "- For simulated portfolio management:  \\\n",
    "  - For each action (buy/report), first briefly explain what is happening (reasoning), then show a summarized table of holdings and total (e.g., QQQ 50%, AAPL 50%, Total: $10,000).\\\n",
    "  - Always include the remaining amount the user can invest (unallocated funds).\\\n",
    "  - Use simple ASCII graphics if needed for visual clarity.\\\n",
    "  - Respond in structured sections.  \\\n",
    "- For stock market value lookup: \\\n",
    "  - State that you are retrieving the latest market value, then use the `get_market_val` tool and report the result clearly.\\\n",
    "- If you do not know an answer or are not qualified, respond with: 'Sorry, I do not know.'  \\\n",
    "**Examples:**  \\\n",
    "Example 1:  \\\n",
    "User: What stock tracks the Nasdaq?  \\\n",
    "Reasoning: To track the Nasdaq index, an ETF must be designed to follow its performance.  \\\n",
    "Conclusion: The Invesco QQQ Trust (QQQ) is a stock (ETF) that tracks the Nasdaq-100 Index.\\\n",
    "Example 2:  \\\n",
    "User: Buy $5,000 of QQQ  \\\n",
    "Reasoning: The user requests to allocate $5,000 into QQQ. Updating the portfolio and recalculating proportions...  \\\n",
    "Conclusion:  \\\n",
    "Portfolio Breakdown:  \\\n",
    "- QQQ: $5,000 (100%)\\\n",
    "Total invested: $5,000\\\n",
    "Remaining amount to invest: $0\\\n",
    "Example 3:  \\\n",
    "User: Buy $5,000 of QQQ; Buy $5,000 of AAPL  \\\n",
    "Reasoning: The portfolio now consists of $5,000 in QQQ and $5,000 in AAPL. Here's the updated allocation:  \\\n",
    "Conclusion:  \\\n",
    "Portfolio Breakdown:  \\\n",
    "- QQQ: $5,000 (50%)  \\\n",
    "- AAPL: $5,000 (50%)\\\n",
    "Total invested: $10,000\\\n",
    "Remaining amount to invest: $0\\\n",
    "Example 4:  \\\n",
    "User: What is the current market value of AAPL?  \\\n",
    "Reasoning: The user is asking for the current price of Apple Inc. stock. Retrieving the latest market value using the `get_market_val` tool...  \\\n",
    "Conclusion: The current market value of AAPL is $193.25 per share.\\\n",
    "---\\\n",
    "**Important:**  \\\n",
    "- Reasoning/explanation must always precede any recommendation or portfolio result.\\\n",
    "- If you don't know the answer, say so.\\\n",
    "- Only answer about stocks and simulated portfolio management.\\\n",
    "- Never provide real financial or actionable advice; this is a simulated tool.\\\n",
    "---\\\n",
    "**Reminder:**  \\\n",
    "Focus only on stocks (ETFs and individual companies available in the U.S. market); always reason before concluding; portfolio breakdowns must always start with a brief explanation followed by the breakdown or chart; never guess or \\\n",
    "answer what you don't know.\"\"\"\n"
   ]
  },
  {
   "cell_type": "code",
   "execution_count": 244,
   "id": "958b4374-24f4-4825-91fc-f8de151fac78",
   "metadata": {},
   "outputs": [],
   "source": [
    "# And this is included in a list of tools:\n",
    "\n",
    "tools = [{\"type\": \"function\", \"function\": get_portfolio_function}, {\"type\": \"function\", \"function\": place_buy_order_function}, {\"type\": \"function\", \"function\": get_market_val_function}]"
   ]
  },
  {
   "cell_type": "code",
   "execution_count": 245,
   "id": "a2f5973f-5111-47d7-b4cb-522625163369",
   "metadata": {},
   "outputs": [],
   "source": [
    "# We have to write that function handle_tool_call: Allows to unpack the LLM message to see what tool it needs to call\n",
    "\n",
    "def handle_tool_call(message):\n",
    "    tool_call = message.tool_calls[0] # Unpack it to see which tool it needs to call\n",
    "\n",
    "    # If there are more than 1 tool that it can call, there needs to be an if-else condition here to see which function to call\n",
    "    if tool_call.function.name == \"get_portfolio\":\n",
    "        arguments = json.loads(tool_call.function.arguments) # Load the arguments it needs to call, to see what parameters it needs to call the function\n",
    "        rem_amt_to_trade, amt_invested = get_portfolio()\n",
    "        response = { # Create a response dictionary so it can be passed to the LLM and used in its response\n",
    "            \"role\": \"tool\", # Tool role to inform the LLM of the tool answer\n",
    "            \"content\": json.dumps({\"remaining amt to invest\": rem_amt_to_trade,\"amount invested\": amt_invested}), # Put in a string, json.dumps() turns a json into a string\n",
    "            \"tool_call_id\": tool_call.id # Add in the tool_call ID --> A way to link this response to the request to call the tool it came before it in the \"message\" prompt made by the \n",
    "                                        # assistant\n",
    "        }\n",
    "        return response\n",
    "    elif tool_call.function.name == \"place_buy_order\":\n",
    "        arguments = json.loads(tool_call.function.arguments)\n",
    "        symbol = arguments[\"symbol\"]\n",
    "        qty = arguments[\"qty\"]\n",
    "        res = place_buy_order(symbol, qty)  # Assumes this returns an order confirmation\n",
    "        response = {\n",
    "            \"role\": \"tool\",\n",
    "            \"tool_call_id\": tool_call.id,\n",
    "            \"content\": json.dumps({\n",
    "                \"order confirmation\": str(res)\n",
    "            })\n",
    "        }\n",
    "        return response, symbol, qty\n",
    "\n",
    "    elif tool_call.function.name == \"get_market_val\":\n",
    "        arguments = json.loads(tool_call.function.arguments)\n",
    "        symbol = arguments[\"symbol\"]\n",
    "        market_val = get_market_val(symbol)\n",
    "        response = {\n",
    "            \"role\": \"tool\",\n",
    "            \"tool_call_id\": tool_call.id,\n",
    "            \"content\": json.dumps({\n",
    "                \"market value\": market_val\n",
    "            })\n",
    "        }\n",
    "\n",
    "    return response, symbol\n",
    "    "
   ]
  },
  {
   "cell_type": "code",
   "execution_count": 256,
   "id": "a0f5464a-6b5a-4fdc-86d0-12884ac10c4c",
   "metadata": {},
   "outputs": [],
   "source": [
    "# def chat(message, history):\n",
    "#     messages = [{\"role\": \"system\", \"content\": system_message}] + history + [{\"role\": \"user\", \"content\": message}]\n",
    "#     response = openai.chat.completions.create(model=MODEL, messages=messages, tools=tools)\n",
    "\n",
    "#     if response.choices[0].finish_reason == \"tool_calls\":\n",
    "#         tool_message = response.choices[0].message\n",
    "#         tool_name = tool_message.tool_calls[0].function.name\n",
    "\n",
    "#         # Unpack based on which tool was called\n",
    "#         if tool_name == \"place_buy_order\":\n",
    "#             tool_response, symbol, qty = handle_tool_call(tool_message)\n",
    "#         elif tool_name == \"get_market_val\":\n",
    "#             tool_response, symbol = handle_tool_call(tool_message)\n",
    "#         elif tool_name == \"get_portfolio\":  # get_portfolio or any other tool that returns only one value\n",
    "#             tool_response = handle_tool_call(tool_message)\n",
    "\n",
    "#         # Append assistant’s tool call and our tool response\n",
    "#         messages.append(tool_message)       # Assistant says to call a tool\n",
    "#         messages.append(tool_response)      # Tool responds with output\n",
    "\n",
    "#         # Make second LLM call with updated context\n",
    "#         response = openai.chat.completions.create(model=MODEL, messages=messages)\n",
    "\n",
    "#     return response.choices[0].message.content\n"
   ]
  },
  {
   "cell_type": "code",
   "execution_count": 274,
   "id": "ef49566a-aaef-409a-acaf-912da7d8a7ea",
   "metadata": {},
   "outputs": [],
   "source": [
    "def chat(message, history):\n",
    "    messages = [{\"role\": \"system\", \"content\": system_message}] + history + [{\"role\": \"user\", \"content\": message}]\n",
    "    response = openai.chat.completions.create(model=MODEL, messages=messages, tools=tools)\n",
    "\n",
    "    if response.choices[0].finish_reason == \"tool_calls\":\n",
    "        tool_message = response.choices[0].message\n",
    "        tool_name = tool_message.tool_calls[0].function.name\n",
    "\n",
    "        # Unpack based on which tool was called\n",
    "        if tool_name == \"place_buy_order\":\n",
    "            tool_response, symbol, qty = handle_tool_call(tool_message)\n",
    "        elif tool_name == \"get_market_val\":\n",
    "            tool_response, symbol = handle_tool_call(tool_message)\n",
    "        elif tool_name == \"get_portfolio\":\n",
    "            tool_response = handle_tool_call(tool_message)\n",
    "\n",
    "        # Append assistant’s tool call and our tool response\n",
    "        messages.append(tool_message)\n",
    "        messages.append(tool_response)\n",
    "\n",
    "        # Make second LLM call with updated context\n",
    "        response = openai.chat.completions.create(model=MODEL, messages=messages)\n",
    "\n",
    "    return response.choices[0].message.content"
   ]
  },
  {
   "cell_type": "code",
   "execution_count": 275,
   "id": "58d5639c-36d4-46d8-ae8a-69986e4c4716",
   "metadata": {},
   "outputs": [],
   "source": [
    "\n",
    "def create_pie():\n",
    "    # Optional: ensure using the default template (inherits system/theme settings)\n",
    "    pio.templates.default = pio.templates.default  # no override\n",
    "\n",
    "    rem_amt, holdings = get_portfolio()\n",
    "    labels = list(holdings.keys()) + [\"Cash\"]\n",
    "    values = list(holdings.values()) + [rem_amt]\n",
    "\n",
    "    fig = px.pie(\n",
    "        names=labels,\n",
    "        values=values,\n",
    "        title=\"Portfolio Breakdown\",\n",
    "        hole=0.4,\n",
    "        template=None  # use whatever the default is\n",
    "    )\n",
    "    fig.update_traces(textinfo=\"label+percent\")\n",
    "    return fig"
   ]
  },
  {
   "cell_type": "code",
   "execution_count": 277,
   "id": "dc610391-6d04-4dec-a135-0ed725c975f9",
   "metadata": {},
   "outputs": [
    {
     "name": "stdout",
     "output_type": "stream",
     "text": [
      "Portfolio function was called\n",
      "* Running on local URL:  http://127.0.0.1:7884\n",
      "* To create a public link, set `share=True` in `launch()`.\n"
     ]
    },
    {
     "data": {
      "text/html": [
       "<div><iframe src=\"http://127.0.0.1:7884/\" width=\"100%\" height=\"500\" allow=\"autoplay; camera; microphone; clipboard-read; clipboard-write;\" frameborder=\"0\" allowfullscreen></iframe></div>"
      ],
      "text/plain": [
       "<IPython.core.display.HTML object>"
      ]
     },
     "metadata": {},
     "output_type": "display_data"
    },
    {
     "data": {
      "text/plain": []
     },
     "execution_count": 277,
     "metadata": {},
     "output_type": "execute_result"
    },
    {
     "name": "stdout",
     "output_type": "stream",
     "text": [
      "Portfolio function was called\n"
     ]
    }
   ],
   "source": [
    "with gr.Blocks() as app:\n",
    "    with gr.Row():\n",
    "        with gr.Column(scale=3):\n",
    "            chat_box = gr.ChatInterface(\n",
    "                fn=chat,\n",
    "                title=\"Stock Advisor Chat\",\n",
    "                description=\"Interact and simulate portfolio actions.\",\n",
    "                type=\"messages\"\n",
    "            )\n",
    "        with gr.Column(scale=2):\n",
    "            pie = gr.Plot(value=create_pie, label=\"Portfolio Pie Chart\")\n",
    "\n",
    "app.launch()"
   ]
  },
  {
   "cell_type": "code",
   "execution_count": null,
   "id": "284b8c5c-7b9a-45d4-8b11-5e8d0e9b18bc",
   "metadata": {},
   "outputs": [],
   "source": []
  },
  {
   "cell_type": "code",
   "execution_count": null,
   "id": "c7b59a5f-db1e-4e5f-9e3e-bf495014a7d8",
   "metadata": {},
   "outputs": [],
   "source": []
  }
 ],
 "metadata": {
  "kernelspec": {
   "display_name": "Python 3 (ipykernel)",
   "language": "python",
   "name": "python3"
  },
  "language_info": {
   "codemirror_mode": {
    "name": "ipython",
    "version": 3
   },
   "file_extension": ".py",
   "mimetype": "text/x-python",
   "name": "python",
   "nbconvert_exporter": "python",
   "pygments_lexer": "ipython3",
   "version": "3.11.13"
  }
 },
 "nbformat": 4,
 "nbformat_minor": 5
}
